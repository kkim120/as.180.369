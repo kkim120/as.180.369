{
 "cells": [
  {
   "cell_type": "markdown",
   "id": "36acd6da-2805-4485-8c08-04d716f8eb9a",
   "metadata": {
    "editable": true,
    "slideshow": {
     "slide_type": ""
    },
    "tags": []
   },
   "source": [
    "# Beyond the Streetlight\n",
    "\n",
    "\n",
    "### by Byrne, Corrado, Kennickell"
   ]
  },
  {
   "cell_type": "markdown",
   "id": "af0ee12f-16fe-4d83-9156-95563295cffe",
   "metadata": {
    "editable": true,
    "slideshow": {
     "slide_type": "slide"
    },
    "tags": []
   },
   "source": [
    "## Thank you to all Federal Reserve Staff"
   ]
  },
  {
   "cell_type": "markdown",
   "id": "5326d526-f788-4168-a35a-db7ba9c6af14",
   "metadata": {
    "editable": true,
    "slideshow": {
     "slide_type": "fragment"
    },
    "tags": []
   },
   "source": [
    "#### Past, Present, and Future"
   ]
  },
  {
   "cell_type": "markdown",
   "id": "c344f0e7-591d-47d6-b44a-4db2439b420d",
   "metadata": {
    "editable": true,
    "slideshow": {
     "slide_type": "fragment"
    },
    "tags": []
   },
   "source": [
    "#### For doing a vitally important job as well as humanely possible"
   ]
  },
  {
   "cell_type": "code",
   "execution_count": null,
   "id": "6e4de44c-46f3-45ec-a8a5-740bcc65dafc",
   "metadata": {
    "editable": true,
    "slideshow": {
     "slide_type": ""
    },
    "tags": []
   },
   "outputs": [],
   "source": []
  }
 ],
 "metadata": {
  "kernelspec": {
   "display_name": "Python 3 (ipykernel)",
   "language": "python",
   "name": "python3"
  },
  "language_info": {
   "codemirror_mode": {
    "name": "ipython",
    "version": 3
   },
   "file_extension": ".py",
   "mimetype": "text/x-python",
   "name": "python",
   "nbconvert_exporter": "python",
   "pygments_lexer": "ipython3",
   "version": "3.10.10"
  }
 },
 "nbformat": 4,
 "nbformat_minor": 5
}
